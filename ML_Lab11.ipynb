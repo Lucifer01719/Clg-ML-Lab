{
  "nbformat": 4,
  "nbformat_minor": 0,
  "metadata": {
    "colab": {
      "provenance": [],
      "authorship_tag": "ABX9TyPl8L4lqlK1i57DaKUrea2g",
      "include_colab_link": true
    },
    "kernelspec": {
      "name": "python3",
      "display_name": "Python 3"
    },
    "language_info": {
      "name": "python"
    }
  },
  "cells": [
    {
      "cell_type": "markdown",
      "metadata": {
        "id": "view-in-github",
        "colab_type": "text"
      },
      "source": [
        "<a href=\"https://colab.research.google.com/github/Lucifer01719/Clg-ML-Lab/blob/main/ML_Lab11.ipynb\" target=\"_parent\"><img src=\"https://colab.research.google.com/assets/colab-badge.svg\" alt=\"Open In Colab\"/></a>"
      ]
    },
    {
      "cell_type": "code",
      "execution_count": 1,
      "metadata": {
        "id": "KUD9EDcUHK9v"
      },
      "outputs": [],
      "source": [
        "import numpy as np\n",
        "import pandas as pd\n",
        "import matplotlib.pyplot as plt"
      ]
    },
    {
      "cell_type": "code",
      "source": [
        "X = np.array([1., 2., 3., 4., 5.])\n",
        "y = np.array([0., 0., 0., 1., 1.,])\n",
        "m = len(y)"
      ],
      "metadata": {
        "id": "qZoHBt5nHXaS"
      },
      "execution_count": 2,
      "outputs": []
    },
    {
      "cell_type": "code",
      "source": [
        "def sigmoid(z):\n",
        "    return 1.0 / (1.0 + np.exp(-z))"
      ],
      "metadata": {
        "id": "X3338wvHHZ7G"
      },
      "execution_count": 3,
      "outputs": []
    },
    {
      "cell_type": "code",
      "source": [
        "b0 = 0.0\n",
        "b1 = 0.0\n",
        "alpha = 0.1"
      ],
      "metadata": {
        "id": "FX91ZkhmHbjK"
      },
      "execution_count": 4,
      "outputs": []
    },
    {
      "cell_type": "code",
      "source": [
        "z = b0 + b1 * X\n",
        "h = sigmoid(z)\n",
        "eps = 1e-15\n",
        "initial_cost = -(1.0 / m) * np.sum(y * np.log(h + eps) + (1 - y) * np.log(1 - h + eps))\n",
        "print(\"Initial h:\", h)\n",
        "print(\"Initial cost:\", initial_cost)"
      ],
      "metadata": {
        "colab": {
          "base_uri": "https://localhost:8080/"
        },
        "id": "bFp19EqKHdTK",
        "outputId": "813a28bc-fcee-414a-a23b-854fda4c29fb"
      },
      "execution_count": 5,
      "outputs": [
        {
          "output_type": "stream",
          "name": "stdout",
          "text": [
            "Initial h: [0.5 0.5 0.5 0.5 0.5]\n",
            "Initial cost: 0.6931471805599433\n"
          ]
        }
      ]
    },
    {
      "cell_type": "code",
      "source": [
        "h_minus_y = h - y\n",
        "grad_b0 = np.mean(h_minus_y)\n",
        "grad_b1 = np.mean(h_minus_y * X)\n",
        "print(\"grad_b0 =\", grad_b0)\n",
        "print(\"grad_b1 =\", grad_b0)"
      ],
      "metadata": {
        "colab": {
          "base_uri": "https://localhost:8080/"
        },
        "id": "UIVgND8oHfRq",
        "outputId": "0ed4f76d-3239-4ae3-aeb7-6de2895caf5e"
      },
      "execution_count": 6,
      "outputs": [
        {
          "output_type": "stream",
          "name": "stdout",
          "text": [
            "grad_b0 = 0.1\n",
            "grad_b1 = 0.1\n"
          ]
        }
      ]
    },
    {
      "cell_type": "code",
      "source": [
        "b0_new = b0 - alpha * grad_b0\n",
        "b1_new = b1 - alpha * grad_b1\n",
        "print(\"After one update: b0 =\", b0_new, \", b1 =\", b1_new)"
      ],
      "metadata": {
        "colab": {
          "base_uri": "https://localhost:8080/"
        },
        "id": "-D-kJ4IdHhEI",
        "outputId": "6c66d0ff-16aa-4f2d-95d2-4f1dfbb580cf"
      },
      "execution_count": 7,
      "outputs": [
        {
          "output_type": "stream",
          "name": "stdout",
          "text": [
            "After one update: b0 = -0.010000000000000002 , b1 = 0.03\n"
          ]
        }
      ]
    },
    {
      "cell_type": "code",
      "source": [
        "b0, b1 = 0.0, 0.0\n",
        "nu_iter = 2000\n",
        "n_iter = 2000\n",
        "history = []\n",
        "for it in range(n_iter):\n",
        "    z = b0 + b1 * X\n",
        "    h = sigmoid(z)\n",
        "    grad_b0 = np.mean(h - y)\n",
        "    grad_b1 = np.mean((h - y) * X)\n",
        "    cost = - (1.0 / m) * np.sum(y * np.log(h +eps) + (1 - y) * np.log(1 - h + eps))\n",
        "    history.append((it, b0, b1, cost))\n",
        "    b0 -= alpha * grad_b0\n",
        "    b1 -= alpha * grad_b1"
      ],
      "metadata": {
        "id": "lfs7e_3RHipq"
      },
      "execution_count": 8,
      "outputs": []
    },
    {
      "cell_type": "code",
      "source": [
        "print(\"\\nFinal parameters after {} iterations:\".format(n_iter))\n",
        "print(\" b0 =\", b0)\n",
        "print(\" b1 =\", b1)\n",
        "decision_boundary = -b0 / b1\n",
        "print(\"Decision boundary x =\", decision_boundary)\n",
        "print(\"Final cost J = \", history[-1][3])"
      ],
      "metadata": {
        "colab": {
          "base_uri": "https://localhost:8080/"
        },
        "id": "HJfRHuxwHkwy",
        "outputId": "79c392c3-f91d-40ad-bc1c-5c4ccfaadd30"
      },
      "execution_count": 9,
      "outputs": [
        {
          "output_type": "stream",
          "name": "stdout",
          "text": [
            "\n",
            "Final parameters after 2000 iterations:\n",
            " b0 = -8.124229652999901\n",
            " b1 = 2.379077884857112\n",
            "Decision boundary x = 3.4148649376764073\n",
            "Final cost J =  0.1197651327339016\n"
          ]
        }
      ]
    },
    {
      "cell_type": "code",
      "source": [
        "X_plot = np.linspace(0, 6, 200)\n",
        "y_plot = sigmoid(b0 + b1 * X_plot)"
      ],
      "metadata": {
        "id": "X5DP0ibMHmZE"
      },
      "execution_count": 10,
      "outputs": []
    },
    {
      "cell_type": "code",
      "source": [
        "plt.figure(figsize=(8,5))\n",
        "plt.scatter(X, y)\n",
        "plt.plot(X_plot, y_plot)\n",
        "plt.axhline(0.5, linestyle='--')\n",
        "plt.title(\"Logistic regression fit (manual gradient descent)\")\n",
        "plt.xlabel(\"Study hours\")\n",
        "plt.ylabel(\"P(pass)\")\n",
        "plt.grid(True)\n",
        "plt.show()"
      ],
      "metadata": {
        "colab": {
          "base_uri": "https://localhost:8080/",
          "height": 487
        },
        "id": "t-pQeXuyHpBw",
        "outputId": "990629d8-e956-4abe-bff7-dbbbf9521ddc"
      },
      "execution_count": 11,
      "outputs": [
        {
          "output_type": "display_data",
          "data": {
            "text/plain": [
              "<Figure size 800x500 with 1 Axes>"
            ],
            "image/png": "[encoded data removed]"
          },
          "metadata": {}
        }
      ]
    },
    {
      "cell_type": "code",
      "source": [],
      "metadata": {
        "id": "RB6U53_OHqnN"
      },
      "execution_count": null,
      "outputs": []
    }
  ]
}